{
 "cells": [
  {
   "cell_type": "code",
   "execution_count": 17,
   "metadata": {},
   "outputs": [
    {
     "name": "stdout",
     "output_type": "stream",
     "text": [
      "{\"1\": \"1\", \"2\": \"2\", \"3\": \"3\", \"4\": \"4\"}\n",
      "<class 'str'>\n",
      "1\n"
     ]
    }
   ],
   "source": [
    "import pickle\n",
    "import json\n",
    "\n",
    "test = {\n",
    "    \"1\": \"1\",\n",
    "    \"2\": \"2\",\n",
    "    \"3\": \"3\",\n",
    "    \"4\": \"4\",\n",
    "}\n",
    "pickled = json.dumps(test)\n",
    "print(pickled)\n",
    "print(type(pickled))\n",
    "\n",
    "with open(\"test.json\", \"w\") as f:\n",
    "    json.dump({\"test\": pickled}, f, indent=4)\n",
    "\n",
    "with open(\"test.json\", \"r\") as f:\n",
    "    test = json.load(f)\n",
    "\n",
    "print(json.loads(test[\"test\"])[\"1\"])"
   ]
  }
 ],
 "metadata": {
  "kernelspec": {
   "display_name": "Python 3",
   "language": "python",
   "name": "python3"
  },
  "language_info": {
   "codemirror_mode": {
    "name": "ipython",
    "version": 3
   },
   "file_extension": ".py",
   "mimetype": "text/x-python",
   "name": "python",
   "nbconvert_exporter": "python",
   "pygments_lexer": "ipython3",
   "version": "3.11.3"
  },
  "orig_nbformat": 4
 },
 "nbformat": 4,
 "nbformat_minor": 2
}
